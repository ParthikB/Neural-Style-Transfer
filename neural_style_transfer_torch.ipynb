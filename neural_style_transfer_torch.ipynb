{
  "nbformat": 4,
  "nbformat_minor": 0,
  "metadata": {
    "colab": {
      "name": "neural style transfer - torch",
      "provenance": [],
      "collapsed_sections": [],
      "include_colab_link": true
    },
    "kernelspec": {
      "name": "python3",
      "display_name": "Python 3"
    },
    "accelerator": "GPU"
  },
  "cells": [
    {
      "cell_type": "markdown",
      "metadata": {
        "id": "view-in-github",
        "colab_type": "text"
      },
      "source": [
        "<a href=\"https://colab.research.google.com/github/ParthikB/Neural-Style-Transfer/blob/master/neural_style_transfer_torch.ipynb\" target=\"_parent\"><img src=\"https://colab.research.google.com/assets/colab-badge.svg\" alt=\"Open In Colab\"/></a>"
      ]
    },
    {
      "cell_type": "code",
      "metadata": {
        "id": "jpE-RBdyWhlu",
        "colab_type": "code",
        "colab": {}
      },
      "source": [
        "import torchvision.models as models"
      ],
      "execution_count": 0,
      "outputs": []
    },
    {
      "cell_type": "code",
      "metadata": {
        "id": "EGoNFVofWrdK",
        "colab_type": "code",
        "colab": {}
      },
      "source": [
        ""
      ],
      "execution_count": 0,
      "outputs": []
    },
    {
      "cell_type": "code",
      "metadata": {
        "id": "VMAmFf2lWrls",
        "colab_type": "code",
        "colab": {}
      },
      "source": [
        "# Defining the Feature Layers we need respectively\n",
        "\n",
        "# styleLayers = ['block1_conv2', \n",
        "#                'block2_conv2', \n",
        "#                'block3_conv3', \n",
        "#                'block4_conv3', \n",
        "#                'block5_conv3']\n",
        "\n",
        "styleLayers = [2, 7, 14, 23, 32]\n",
        "\n",
        "# contentLayer = ['block3_conv2']\n",
        "\n",
        "contentLayer = [12]\n",
        "\n",
        "numContentLayers = len(contentLayer) # Number of Content Layers\n",
        "numStyleLayers   = len(styleLayers)  # Number of Style Layers"
      ],
      "execution_count": 0,
      "outputs": []
    },
    {
      "cell_type": "markdown",
      "metadata": {
        "id": "qT9gMFK9Wvjb",
        "colab_type": "text"
      },
      "source": [
        "## Getting the model"
      ]
    },
    {
      "cell_type": "code",
      "metadata": {
        "id": "ECE3NT_XXTqw",
        "colab_type": "code",
        "colab": {}
      },
      "source": [
        "# Defining Function to import model (VGG19)\n",
        "def getModel():\n",
        "\n",
        "  # Loading Model from tf\n",
        "  model = models.vgg19(pretrained=True) #----------------------------are parameters freezed?\n",
        "\n",
        "  # Features of the Respective Layers\n",
        "  # contentFeatures = [model.get_layer(name).output for name in contentLayer]\n",
        "  # styleFeatures   = [model.get_layer(name).output for name in styleLayers]\n",
        "  \n",
        "  contentFeatures = [list(vgg19.children())[0][layerNumber] for layerNumber in contentLayer] #----------------------- where are the outputs?\n",
        "  styleFeatures   = [list(vgg19.children())[0][layerNumber] for layerNumber in styleLayers]\n",
        "\n",
        "  modelOutput = contentFeatures + styleFeatures\n",
        "\n",
        "  return models.Model(model.input, modelOutput) #---------------------has to reframe this"
      ],
      "execution_count": 0,
      "outputs": []
    },
    {
      "cell_type": "code",
      "metadata": {
        "id": "FOlLOK8kcrMW",
        "colab_type": "code",
        "colab": {}
      },
      "source": [
        "# Defining GRAM MATRIX\n",
        "def gram(x):\n",
        "\n",
        "  # number of channels\n",
        "  channels = int(x.shape[-1])\n",
        "  \n",
        "  # reshaping to channel first\n",
        "  a = x.view(-1, channels)\n",
        "  n = a.shape[0]\n",
        "  \n",
        "  # gram matrix\n",
        "  gram = torch.matmul(a, a, transpose_a=True)\n",
        "  \n",
        "  return gram / tf.cast(n, tf.float32) #-------------------reframe this tf.cast\n",
        "\n",
        "\n",
        "# Defining CONTENT COST\n",
        "def contentCost(contentFeatures, generateFeatures):\n",
        "  return torch.mean(torch.stack((contentFeatures-generateFeatures)**2)) #---------------------- is the mean correct?\n",
        "\n",
        "\n",
        "# Defining STYLE COST\n",
        "def styleCost(styleFeatures, generateFeatures):\n",
        "  styleGram = gram(styleFeatures)\n",
        "  return torch.mean(torch.stack((styleGram-generateFeatures)**2)) #---------------------- is the mean correct?"
      ],
      "execution_count": 0,
      "outputs": []
    },
    {
      "cell_type": "code",
      "metadata": {
        "id": "bAZ6I9u5fIfo",
        "colab_type": "code",
        "colab": {}
      },
      "source": [
        "\"\"\"  \n",
        "  Helper function to compute our content and style feature representations.\n",
        " \n",
        "  This function will simply load and preprocess both the content and style \n",
        "  images from their path. Then it will feed them through the network to obtain\n",
        "  the outputs of the intermediate layers. \n",
        "  \n",
        "  Arguments:\n",
        "    model: The model that we are using.\n",
        "    content_path: The path to the content image.\n",
        "    style_path: The path to the style image\n",
        "    \n",
        "  Returns:\n",
        "    returns the style features and the content features. \n",
        "\"\"\"\n",
        "\n",
        "def loadImage(path_to_img):\n",
        "  max_dim = 512\n",
        "  img2show = Image.open(path_to_img)\n",
        "  long = max(img2show.size)\n",
        "  scale = max_dim/long\n",
        "  img = img2show.resize((round(img2show.size[0]*scale), round(img2show.size[1]*scale)), Image.ANTIALIAS)\n",
        "  \n",
        "  img = image.img_to_array(img)\n",
        "  \n",
        "  # We need to broadcast the image array such that it has a batch dimension \n",
        "  img = np.expand_dims(img2show, axis=0)\n",
        "  return img2show, img\n",
        " \n",
        "\n",
        "def urlToImage(url):\n",
        "  resp = urllib.request.urlopen(url)\n",
        "  img = np.asarray(bytearray(resp.read()), dtype='uint8')\n",
        "  img = cv2.imdecode(img, cv2.IMREAD_COLOR)\n",
        "  img2show = cv2.cvtColor(img, cv2.COLOR_BGR2RGB)\n",
        "\n",
        "  img = np.expand_dims(img2show, axis=0)\n",
        "  return img2show, img\n",
        "\n",
        "\n",
        "def inputImageAndPreprocess(path):\n",
        "  # Loading the image and reshaping it according to VGG19 requirements.\n",
        "  if path[:5]=='https':\n",
        "    print(\"Loading Image from Internet...\")\n",
        "    img2show, img = urlToImage(path)\n",
        "  else:\n",
        "    print(\"Loading Image from Local...\")\n",
        "    img2show, img = loadImage(path)\n",
        "  \n",
        "  # Preprocessing the img according to VGG19 requirements\n",
        "  img = tf.keras.applications.vgg19.preprocess_input(img) #-------------instead of this, just use the below normalization while feeding the image to the network! \n",
        "  # normalize = transforms.Normalize(mean=[0.485, 0.456, 0.406], std=[0.229, 0.224, 0.225])\n",
        "\n",
        "  return img2show, img\n",
        "\n",
        "\n",
        "def getFeatures(contentPath, stylePath, model):\n",
        "  \n",
        "  # Loading and pre-processing the images\n",
        "  _, content   = inputImageAndPreprocess(contentPath)\n",
        "  _, style     = inputImageAndPreprocess(stylePath)\n",
        "\n",
        "  # Defining the respective outputs from our model\n",
        "  contentOutputs = model(content) #----------------------what is this?\n",
        "  styleOutputs   = model(style)\n",
        "  \n",
        "  # Extracting out the different features from the model output\n",
        "  contentFeatures = [contentFeature[0] for contentFeature in contentOutputs[numStyleLayers:]]\n",
        "  styleFeatures = [styleFeature[0] for styleFeature in styleOutputs[:numStyleLayers]]\n",
        "\n",
        "  return contentFeatures, styleFeatures\n",
        "\n",
        "\n",
        "# Deprocessing Image to save locally\n",
        "def deprocessImage(processed_img):\n",
        "  x = processed_img.copy()\n",
        "  if len(x.shape) == 4:\n",
        "    x = np.squeeze(x, 0)\n",
        "  assert len(x.shape) == 3, (\"Input to deprocess image must be an image of \"\n",
        "                             \"dimension [1, height, width, channel] or [height, width, channel]\")\n",
        "  if len(x.shape) != 3:\n",
        "    raise ValueError(\"Invalid input to deprocessing image\")\n",
        "  \n",
        "  # perform the inverse of the preprocessiing step\n",
        "  x[:, :, 0] += 103.939\n",
        "  x[:, :, 1] += 116.779\n",
        "  x[:, :, 2] += 123.68\n",
        "  x = x[:, :, ::-1]\n",
        "\n",
        "  x = np.clip(x, 0, 255).astype('uint8')\n",
        "  return x"
      ],
      "execution_count": 0,
      "outputs": []
    },
    {
      "cell_type": "code",
      "metadata": {
        "id": "7zocV4rtfIiu",
        "colab_type": "code",
        "colab": {}
      },
      "source": [
        ""
      ],
      "execution_count": 0,
      "outputs": []
    },
    {
      "cell_type": "code",
      "metadata": {
        "id": "s1GLOE4vfIlq",
        "colab_type": "code",
        "colab": {}
      },
      "source": [
        ""
      ],
      "execution_count": 0,
      "outputs": []
    },
    {
      "cell_type": "code",
      "metadata": {
        "id": "PnjunHChWywD",
        "colab_type": "code",
        "colab": {
          "base_uri": "https://localhost:8080/",
          "height": 51
        },
        "outputId": "893fa5cb-cf91-44b5-d351-561bb2c51718"
      },
      "source": [
        "vgg19 = models.vgg19(pretrained=True)"
      ],
      "execution_count": 3,
      "outputs": [
        {
          "output_type": "stream",
          "text": [
            "Downloading: \"https://download.pytorch.org/models/vgg19-dcbb9e9d.pth\" to /root/.cache/torch/checkpoints/vgg19-dcbb9e9d.pth\n",
            "100%|██████████| 548M/548M [00:23<00:00, 24.9MB/s]\n"
          ],
          "name": "stderr"
        }
      ]
    },
    {
      "cell_type": "code",
      "metadata": {
        "id": "hpRrek3Nb97J",
        "colab_type": "code",
        "colab": {
          "base_uri": "https://localhost:8080/",
          "height": 816
        },
        "outputId": "d1b6049c-4c59-4820-e100-4900f9379ac2"
      },
      "source": [
        "list(vgg19.children())"
      ],
      "execution_count": 33,
      "outputs": [
        {
          "output_type": "execute_result",
          "data": {
            "text/plain": [
              "[Sequential(\n",
              "   (0): Conv2d(3, 64, kernel_size=(3, 3), stride=(1, 1), padding=(1, 1))\n",
              "   (1): ReLU(inplace=True)\n",
              "   (2): Conv2d(64, 64, kernel_size=(3, 3), stride=(1, 1), padding=(1, 1))\n",
              "   (3): ReLU(inplace=True)\n",
              "   (4): MaxPool2d(kernel_size=2, stride=2, padding=0, dilation=1, ceil_mode=False)\n",
              "   (5): Conv2d(64, 128, kernel_size=(3, 3), stride=(1, 1), padding=(1, 1))\n",
              "   (6): ReLU(inplace=True)\n",
              "   (7): Conv2d(128, 128, kernel_size=(3, 3), stride=(1, 1), padding=(1, 1))\n",
              "   (8): ReLU(inplace=True)\n",
              "   (9): MaxPool2d(kernel_size=2, stride=2, padding=0, dilation=1, ceil_mode=False)\n",
              "   (10): Conv2d(128, 256, kernel_size=(3, 3), stride=(1, 1), padding=(1, 1))\n",
              "   (11): ReLU(inplace=True)\n",
              "   (12): Conv2d(256, 256, kernel_size=(3, 3), stride=(1, 1), padding=(1, 1))\n",
              "   (13): ReLU(inplace=True)\n",
              "   (14): Conv2d(256, 256, kernel_size=(3, 3), stride=(1, 1), padding=(1, 1))\n",
              "   (15): ReLU(inplace=True)\n",
              "   (16): Conv2d(256, 256, kernel_size=(3, 3), stride=(1, 1), padding=(1, 1))\n",
              "   (17): ReLU(inplace=True)\n",
              "   (18): MaxPool2d(kernel_size=2, stride=2, padding=0, dilation=1, ceil_mode=False)\n",
              "   (19): Conv2d(256, 512, kernel_size=(3, 3), stride=(1, 1), padding=(1, 1))\n",
              "   (20): ReLU(inplace=True)\n",
              "   (21): Conv2d(512, 512, kernel_size=(3, 3), stride=(1, 1), padding=(1, 1))\n",
              "   (22): ReLU(inplace=True)\n",
              "   (23): Conv2d(512, 512, kernel_size=(3, 3), stride=(1, 1), padding=(1, 1))\n",
              "   (24): ReLU(inplace=True)\n",
              "   (25): Conv2d(512, 512, kernel_size=(3, 3), stride=(1, 1), padding=(1, 1))\n",
              "   (26): ReLU(inplace=True)\n",
              "   (27): MaxPool2d(kernel_size=2, stride=2, padding=0, dilation=1, ceil_mode=False)\n",
              "   (28): Conv2d(512, 512, kernel_size=(3, 3), stride=(1, 1), padding=(1, 1))\n",
              "   (29): ReLU(inplace=True)\n",
              "   (30): Conv2d(512, 512, kernel_size=(3, 3), stride=(1, 1), padding=(1, 1))\n",
              "   (31): ReLU(inplace=True)\n",
              "   (32): Conv2d(512, 512, kernel_size=(3, 3), stride=(1, 1), padding=(1, 1))\n",
              "   (33): ReLU(inplace=True)\n",
              "   (34): Conv2d(512, 512, kernel_size=(3, 3), stride=(1, 1), padding=(1, 1))\n",
              "   (35): ReLU(inplace=True)\n",
              "   (36): MaxPool2d(kernel_size=2, stride=2, padding=0, dilation=1, ceil_mode=False)\n",
              " ), AdaptiveAvgPool2d(output_size=(7, 7)), Sequential(\n",
              "   (0): Linear(in_features=25088, out_features=4096, bias=True)\n",
              "   (1): ReLU(inplace=True)\n",
              "   (2): Dropout(p=0.5, inplace=False)\n",
              "   (3): Linear(in_features=4096, out_features=4096, bias=True)\n",
              "   (4): ReLU(inplace=True)\n",
              "   (5): Dropout(p=0.5, inplace=False)\n",
              "   (6): Linear(in_features=4096, out_features=1000, bias=True)\n",
              " )]"
            ]
          },
          "metadata": {
            "tags": []
          },
          "execution_count": 33
        }
      ]
    },
    {
      "cell_type": "code",
      "metadata": {
        "id": "EU7T_Eaqd-l-",
        "colab_type": "code",
        "colab": {}
      },
      "source": [
        ""
      ],
      "execution_count": 0,
      "outputs": []
    },
    {
      "cell_type": "code",
      "metadata": {
        "id": "_HfTooLHd-r2",
        "colab_type": "code",
        "colab": {}
      },
      "source": [
        ""
      ],
      "execution_count": 0,
      "outputs": []
    },
    {
      "cell_type": "code",
      "metadata": {
        "id": "kzoTAiIbd-qv",
        "colab_type": "code",
        "colab": {}
      },
      "source": [
        ""
      ],
      "execution_count": 0,
      "outputs": []
    }
  ]
}